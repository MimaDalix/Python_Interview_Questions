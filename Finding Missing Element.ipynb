{
 "cells": [
  {
   "cell_type": "markdown",
   "id": "norwegian-attitude",
   "metadata": {},
   "source": [
    "## Find The missing element"
   ]
  },
  {
   "cell_type": "markdown",
   "id": "embedded-treat",
   "metadata": {},
   "source": [
    "### Problem"
   ]
  },
  {
   "cell_type": "markdown",
   "id": "affiliated-monitor",
   "metadata": {},
   "source": [
    "Consider an array of non-negative integers. A second array is formed by suffling the elements of the first array and deleting a random element. Given these two arrays, find which element is missing in the second array."
   ]
  },
  {
   "cell_type": "markdown",
   "id": "living-hands",
   "metadata": {},
   "source": [
    "### Solution"
   ]
  },
  {
   "cell_type": "code",
   "execution_count": 9,
   "id": "eastern-tennessee",
   "metadata": {},
   "outputs": [],
   "source": [
    "def finder(arr1, arr2):\n",
    "    \n",
    "    # Sort both arrays:\n",
    "    arr1.sort()\n",
    "    arr2.sort()\n",
    "    \n",
    "    # Compare the elements from the sorted arrays:\n",
    "    for num1, num2 in zip(arr1, arr2):\n",
    "        if num1 != num2:\n",
    "            return num1\n",
    "        \n",
    "    else:\n",
    "        return arr1[-1]"
   ]
  },
  {
   "cell_type": "code",
   "execution_count": 10,
   "id": "located-undergraduate",
   "metadata": {},
   "outputs": [
    {
     "data": {
      "text/plain": [
       "1"
      ]
     },
     "execution_count": 10,
     "metadata": {},
     "output_type": "execute_result"
    }
   ],
   "source": [
    "arr1 = [1, 2, 3]\n",
    "arr2 = [3, 2]\n",
    "\n",
    "finder(arr1, arr2)"
   ]
  },
  {
   "cell_type": "markdown",
   "id": "upset-freeware",
   "metadata": {},
   "source": [
    "### Other Solution using a dictionary:"
   ]
  },
  {
   "cell_type": "code",
   "execution_count": 11,
   "id": "numerous-malta",
   "metadata": {},
   "outputs": [],
   "source": [
    "import collections\n",
    "\n",
    "def finder2(arr1, arr2):\n",
    "    \n",
    "    # Using default dict to avoid key errors\n",
    "    d = collections.defaultdict(int)\n",
    "    \n",
    "    # Add a count for every instance in Array 1\n",
    "    for num in arr2:\n",
    "        d[num] += 1\n",
    "        \n",
    "    # Check if num not in dictionary\n",
    "    for num in arr1:\n",
    "        if d[num] == 0:\n",
    "            return num\n",
    "        \n",
    "    # Otherwise substract a count\n",
    "    else: d[num] -= 1"
   ]
  },
  {
   "cell_type": "code",
   "execution_count": 15,
   "id": "revised-translation",
   "metadata": {},
   "outputs": [
    {
     "data": {
      "text/plain": [
       "1"
      ]
     },
     "execution_count": 15,
     "metadata": {},
     "output_type": "execute_result"
    }
   ],
   "source": [
    "finder2(arr1, arr2)"
   ]
  }
 ],
 "metadata": {
  "kernelspec": {
   "display_name": "Python 3",
   "language": "python",
   "name": "python3"
  },
  "language_info": {
   "codemirror_mode": {
    "name": "ipython",
    "version": 3
   },
   "file_extension": ".py",
   "mimetype": "text/x-python",
   "name": "python",
   "nbconvert_exporter": "python",
   "pygments_lexer": "ipython3",
   "version": "3.8.8"
  }
 },
 "nbformat": 4,
 "nbformat_minor": 5
}
