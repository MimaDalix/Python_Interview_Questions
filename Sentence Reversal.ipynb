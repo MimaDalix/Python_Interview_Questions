{
 "cells": [
  {
   "cell_type": "markdown",
   "id": "confused-chorus",
   "metadata": {},
   "source": [
    "# Sentence Reversal"
   ]
  },
  {
   "cell_type": "markdown",
   "id": "functional-daily",
   "metadata": {},
   "source": [
    "## Problem"
   ]
  },
  {
   "cell_type": "markdown",
   "id": "invalid-storm",
   "metadata": {},
   "source": [
    "Given a string of words, reverse all the words. For example:\n",
    "\n",
    "Given:\n",
    "\n",
    "'This is the best'\n",
    "\n",
    "Return:\n",
    "\n",
    "'best the is This'\n",
    "\n",
    "As part of this exercise you should remove all leading and trailing whitespace. So that inputs such as:\n",
    "\n",
    "'  space here'  and 'space here      '\n",
    "\n",
    "both become:\n",
    "\n",
    "'here space'\n",
    "\n"
   ]
  },
  {
   "cell_type": "markdown",
   "id": "automotive-sodium",
   "metadata": {},
   "source": [
    "## Solution"
   ]
  },
  {
   "cell_type": "code",
   "execution_count": 27,
   "id": "green-apparel",
   "metadata": {},
   "outputs": [],
   "source": [
    "def my_rev_word(s):\n",
    "    \n",
    "    phrase = []\n",
    "    white_space = []\n",
    "    \n",
    "    white_space = s.strip()\n",
    "    \n",
    "    phrase = white_space.split()\n",
    "    \n",
    "    inv = phrase[::-1]\n",
    "    \n",
    "    reversed_string = ' '.join(inv)\n",
    "        \n",
    "    return reversed_string\n",
    "        \n",
    "        "
   ]
  },
  {
   "cell_type": "code",
   "execution_count": 28,
   "id": "according-bachelor",
   "metadata": {},
   "outputs": [
    {
     "data": {
      "text/plain": [
       "'Zip me hey'"
      ]
     },
     "execution_count": 28,
     "metadata": {},
     "output_type": "execute_result"
    }
   ],
   "source": [
    "my_rev_word('hey     me   Zip')"
   ]
  },
  {
   "cell_type": "markdown",
   "id": "supported-remark",
   "metadata": {},
   "source": [
    "## Test the solution"
   ]
  },
  {
   "cell_type": "code",
   "execution_count": 29,
   "id": "lovely-breakdown",
   "metadata": {},
   "outputs": [
    {
     "data": {
      "text/plain": [
       "'after space'"
      ]
     },
     "execution_count": 29,
     "metadata": {},
     "output_type": "execute_result"
    }
   ],
   "source": [
    "rev_word('space after     ')"
   ]
  },
  {
   "cell_type": "code",
   "execution_count": 30,
   "id": "authentic-bridal",
   "metadata": {},
   "outputs": [
    {
     "name": "stdout",
     "output_type": "stream",
     "text": [
      "ALL TEST CASES PASSED\n"
     ]
    }
   ],
   "source": [
    "\"\"\"\n",
    "RUN THIS CELL TO TEST YOUR SOLUTION\n",
    "\"\"\"\n",
    "\n",
    "from nose.tools import assert_equal\n",
    "\n",
    "class ReversalTest(object):\n",
    "    \n",
    "    def test(self,sol):\n",
    "        assert_equal(sol('    space before'),'before space')\n",
    "        assert_equal(sol('space after     '),'after space')\n",
    "        assert_equal(sol('   Hello John    how are you   '),'you are how John Hello')\n",
    "        assert_equal(sol('1'),'1')\n",
    "        print(\"ALL TEST CASES PASSED\")\n",
    "        \n",
    "# Run and test\n",
    "t = ReversalTest()\n",
    "t.test(rev_word)"
   ]
  },
  {
   "cell_type": "markdown",
   "id": "sudden-brave",
   "metadata": {},
   "source": [
    "# Solution"
   ]
  },
  {
   "cell_type": "code",
   "execution_count": 64,
   "id": "junior-conditions",
   "metadata": {},
   "outputs": [],
   "source": [
    "def rev_word(s):\n",
    "    \n",
    "    words = []\n",
    "    length = len(s)\n",
    "    spaces = [' ']\n",
    "    \n",
    "    # Index tracker\n",
    "    i = 0\n",
    "    \n",
    "    # While the index is less than string\n",
    "    while i < length:\n",
    "        \n",
    "        # If element isn't a space\n",
    "        if s[i] not in spaces:\n",
    "            \n",
    "            # The word start at this index\n",
    "            word_start = i\n",
    "            \n",
    "            while i < length and s[i] not in spaces:\n",
    "                \n",
    "                #Get the index where the word ends\n",
    "                i += 1\n",
    "            \n",
    "            # Append that word to the list\n",
    "            words.append(s[word_start:i])\n",
    "        \n",
    "        # Add to index\n",
    "        i += 1\n",
    "            \n",
    "            \n",
    "    return ' '.join(reversed(words))"
   ]
  },
  {
   "cell_type": "code",
   "execution_count": 66,
   "id": "front-particular",
   "metadata": {},
   "outputs": [
    {
     "data": {
      "text/plain": [
       "'know you well'"
      ]
     },
     "execution_count": 66,
     "metadata": {},
     "output_type": "execute_result"
    }
   ],
   "source": [
    "rev_word('well you know    ')"
   ]
  }
 ],
 "metadata": {
  "kernelspec": {
   "display_name": "Python 3",
   "language": "python",
   "name": "python3"
  },
  "language_info": {
   "codemirror_mode": {
    "name": "ipython",
    "version": 3
   },
   "file_extension": ".py",
   "mimetype": "text/x-python",
   "name": "python",
   "nbconvert_exporter": "python",
   "pygments_lexer": "ipython3",
   "version": "3.8.8"
  }
 },
 "nbformat": 4,
 "nbformat_minor": 5
}
