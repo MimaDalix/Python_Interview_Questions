{
 "cells": [
  {
   "cell_type": "code",
   "execution_count": 52,
   "id": "acoustic-portrait",
   "metadata": {},
   "outputs": [],
   "source": [
    "def pair_sum(arr, k):\n",
    "    \n",
    "    # Edge Case:\n",
    "    if len(arr) < 2 :\n",
    "        return 'Error'\n",
    "    \n",
    "    # Sets to keep track:\n",
    "    seen = set()\n",
    "    output = set()\n",
    "    \n",
    "    for num in arr:\n",
    "        target = k - num\n",
    "        \n",
    "        if target not in seen:\n",
    "            seen.add(num)\n",
    "        \n",
    "        else:\n",
    "            output.add( ((min(num, target), max(num, target))))\n",
    "    \n",
    "    print('\\n'.join(map(str, list(output))))\n",
    "        "
   ]
  },
  {
   "cell_type": "code",
   "execution_count": 56,
   "id": "optimum-shanghai",
   "metadata": {},
   "outputs": [
    {
     "name": "stdout",
     "output_type": "stream",
     "text": [
      "(2, 4)\n",
      "(3, 3)\n",
      "(0, 6)\n"
     ]
    }
   ],
   "source": [
    "pair_sum([3, 3, 6, 0, 4, 2], 6)"
   ]
  }
 ],
 "metadata": {
  "kernelspec": {
   "display_name": "Python 3",
   "language": "python",
   "name": "python3"
  },
  "language_info": {
   "codemirror_mode": {
    "name": "ipython",
    "version": 3
   },
   "file_extension": ".py",
   "mimetype": "text/x-python",
   "name": "python",
   "nbconvert_exporter": "python",
   "pygments_lexer": "ipython3",
   "version": "3.8.8"
  }
 },
 "nbformat": 4,
 "nbformat_minor": 5
}
